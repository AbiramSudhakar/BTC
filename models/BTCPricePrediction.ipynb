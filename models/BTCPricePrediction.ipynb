{
 "cells": [
  {
   "cell_type": "code",
   "execution_count": 49,
   "metadata": {},
   "outputs": [
    {
     "name": "stdout",
     "output_type": "stream",
     "text": [
      "Requirement already satisfied: keras in e:\\softwares\\anaconda3\\lib\\site-packages (2.6.0)\n",
      "Note: you may need to restart the kernel to use updated packages.\n"
     ]
    }
   ],
   "source": [
    "pip install keras"
   ]
  },
  {
   "cell_type": "code",
   "execution_count": 3,
   "metadata": {},
   "outputs": [],
   "source": [
    "import pandas as pd\n",
    "import numpy as np\n",
    "\n",
    "import seaborn as sns\n",
    "import matplotlib.pyplot as plt\n",
    "\n",
    "from pycaret.classification import *\n",
    "from pycaret.utils import check_metric\n",
    "\n",
    "from sklearn.feature_extraction.text import CountVectorizer\n",
    "from sklearn.model_selection import train_test_split\n",
    "from sklearn.pipeline import Pipeline"
   ]
  },
  {
   "cell_type": "code",
   "execution_count": 14,
   "metadata": {},
   "outputs": [],
   "source": [
    "from sklearn.preprocessing import MinMaxScaler"
   ]
  },
  {
   "cell_type": "code",
   "execution_count": 50,
   "metadata": {},
   "outputs": [
    {
     "ename": "ImportError",
     "evalue": "cannot import name 'get_config' from 'tensorflow.python.eager.context' (E:\\Softwares\\anaconda3\\lib\\site-packages\\tensorflow\\python\\eager\\context.py)",
     "output_type": "error",
     "traceback": [
      "\u001b[1;31m---------------------------------------------------------------------------\u001b[0m",
      "\u001b[1;31mImportError\u001b[0m                               Traceback (most recent call last)",
      "\u001b[1;32m<ipython-input-50-128ef271cfe4>\u001b[0m in \u001b[0;36m<module>\u001b[1;34m\u001b[0m\n\u001b[1;32m----> 1\u001b[1;33m \u001b[1;32mfrom\u001b[0m \u001b[0mkeras\u001b[0m\u001b[1;33m.\u001b[0m\u001b[0mmodels\u001b[0m \u001b[1;32mimport\u001b[0m \u001b[0mSequential\u001b[0m\u001b[1;33m\u001b[0m\u001b[1;33m\u001b[0m\u001b[0m\n\u001b[0m\u001b[0;32m      2\u001b[0m \u001b[1;32mfrom\u001b[0m \u001b[0mkeras\u001b[0m\u001b[1;33m.\u001b[0m\u001b[0mlayers\u001b[0m \u001b[1;32mimport\u001b[0m \u001b[0mDense\u001b[0m\u001b[1;33m\u001b[0m\u001b[1;33m\u001b[0m\u001b[0m\n\u001b[0;32m      3\u001b[0m \u001b[1;32mfrom\u001b[0m \u001b[0mkeras\u001b[0m\u001b[1;33m.\u001b[0m\u001b[0mlayers\u001b[0m \u001b[1;32mimport\u001b[0m \u001b[0mLSTM\u001b[0m\u001b[1;33m\u001b[0m\u001b[1;33m\u001b[0m\u001b[0m\n\u001b[0;32m      4\u001b[0m \u001b[1;32mfrom\u001b[0m \u001b[0mkeras\u001b[0m\u001b[1;33m.\u001b[0m\u001b[0mlayers\u001b[0m \u001b[1;32mimport\u001b[0m \u001b[0mDropout\u001b[0m\u001b[1;33m\u001b[0m\u001b[1;33m\u001b[0m\u001b[0m\n\u001b[0;32m      5\u001b[0m \u001b[1;32mfrom\u001b[0m \u001b[0mkeras\u001b[0m\u001b[1;33m.\u001b[0m\u001b[0mlayers\u001b[0m \u001b[1;32mimport\u001b[0m \u001b[0mActivation\u001b[0m\u001b[1;33m\u001b[0m\u001b[1;33m\u001b[0m\u001b[0m\n",
      "\u001b[1;32mE:\\Softwares\\anaconda3\\lib\\site-packages\\keras\\__init__.py\u001b[0m in \u001b[0;36m<module>\u001b[1;34m\u001b[0m\n\u001b[0;32m     23\u001b[0m \u001b[1;33m\u001b[0m\u001b[0m\n\u001b[0;32m     24\u001b[0m \u001b[1;31m# See b/110718070#comment18 for more details about this import.\u001b[0m\u001b[1;33m\u001b[0m\u001b[1;33m\u001b[0m\u001b[1;33m\u001b[0m\u001b[0m\n\u001b[1;32m---> 25\u001b[1;33m \u001b[1;32mfrom\u001b[0m \u001b[0mkeras\u001b[0m \u001b[1;32mimport\u001b[0m \u001b[0mmodels\u001b[0m\u001b[1;33m\u001b[0m\u001b[1;33m\u001b[0m\u001b[0m\n\u001b[0m\u001b[0;32m     26\u001b[0m \u001b[1;33m\u001b[0m\u001b[0m\n\u001b[0;32m     27\u001b[0m \u001b[1;32mfrom\u001b[0m \u001b[0mkeras\u001b[0m\u001b[1;33m.\u001b[0m\u001b[0mengine\u001b[0m\u001b[1;33m.\u001b[0m\u001b[0minput_layer\u001b[0m \u001b[1;32mimport\u001b[0m \u001b[0mInput\u001b[0m\u001b[1;33m\u001b[0m\u001b[1;33m\u001b[0m\u001b[0m\n",
      "\u001b[1;32mE:\\Softwares\\anaconda3\\lib\\site-packages\\keras\\models.py\u001b[0m in \u001b[0;36m<module>\u001b[1;34m\u001b[0m\n\u001b[0;32m     17\u001b[0m \u001b[1;33m\u001b[0m\u001b[0m\n\u001b[0;32m     18\u001b[0m \u001b[1;32mimport\u001b[0m \u001b[0mtensorflow\u001b[0m\u001b[1;33m.\u001b[0m\u001b[0mcompat\u001b[0m\u001b[1;33m.\u001b[0m\u001b[0mv2\u001b[0m \u001b[1;32mas\u001b[0m \u001b[0mtf\u001b[0m\u001b[1;33m\u001b[0m\u001b[1;33m\u001b[0m\u001b[0m\n\u001b[1;32m---> 19\u001b[1;33m \u001b[1;32mfrom\u001b[0m \u001b[0mkeras\u001b[0m \u001b[1;32mimport\u001b[0m \u001b[0mbackend\u001b[0m\u001b[1;33m\u001b[0m\u001b[1;33m\u001b[0m\u001b[0m\n\u001b[0m\u001b[0;32m     20\u001b[0m \u001b[1;32mfrom\u001b[0m \u001b[0mkeras\u001b[0m \u001b[1;32mimport\u001b[0m \u001b[0mmetrics\u001b[0m \u001b[1;32mas\u001b[0m \u001b[0mmetrics_module\u001b[0m\u001b[1;33m\u001b[0m\u001b[1;33m\u001b[0m\u001b[0m\n\u001b[0;32m     21\u001b[0m \u001b[1;32mfrom\u001b[0m \u001b[0mkeras\u001b[0m \u001b[1;32mimport\u001b[0m \u001b[0moptimizer_v1\u001b[0m\u001b[1;33m\u001b[0m\u001b[1;33m\u001b[0m\u001b[0m\n",
      "\u001b[1;32mE:\\Softwares\\anaconda3\\lib\\site-packages\\keras\\backend.py\u001b[0m in \u001b[0;36m<module>\u001b[1;34m\u001b[0m\n\u001b[0;32m     34\u001b[0m \u001b[1;32mfrom\u001b[0m \u001b[0mtensorflow\u001b[0m\u001b[1;33m.\u001b[0m\u001b[0mcore\u001b[0m\u001b[1;33m.\u001b[0m\u001b[0mprotobuf\u001b[0m \u001b[1;32mimport\u001b[0m \u001b[0mconfig_pb2\u001b[0m\u001b[1;33m\u001b[0m\u001b[1;33m\u001b[0m\u001b[0m\n\u001b[0;32m     35\u001b[0m \u001b[1;32mfrom\u001b[0m \u001b[0mtensorflow\u001b[0m\u001b[1;33m.\u001b[0m\u001b[0mpython\u001b[0m\u001b[1;33m.\u001b[0m\u001b[0meager\u001b[0m \u001b[1;32mimport\u001b[0m \u001b[0mcontext\u001b[0m\u001b[1;33m\u001b[0m\u001b[1;33m\u001b[0m\u001b[0m\n\u001b[1;32m---> 36\u001b[1;33m \u001b[1;32mfrom\u001b[0m \u001b[0mtensorflow\u001b[0m\u001b[1;33m.\u001b[0m\u001b[0mpython\u001b[0m\u001b[1;33m.\u001b[0m\u001b[0meager\u001b[0m\u001b[1;33m.\u001b[0m\u001b[0mcontext\u001b[0m \u001b[1;32mimport\u001b[0m \u001b[0mget_config\u001b[0m\u001b[1;33m\u001b[0m\u001b[1;33m\u001b[0m\u001b[0m\n\u001b[0m\u001b[0;32m     37\u001b[0m \u001b[1;32mfrom\u001b[0m \u001b[0mtensorflow\u001b[0m\u001b[1;33m.\u001b[0m\u001b[0mpython\u001b[0m\u001b[1;33m.\u001b[0m\u001b[0mframework\u001b[0m \u001b[1;32mimport\u001b[0m \u001b[0mconfig\u001b[0m\u001b[1;33m\u001b[0m\u001b[1;33m\u001b[0m\u001b[0m\n\u001b[0;32m     38\u001b[0m \u001b[1;32mfrom\u001b[0m \u001b[0mkeras\u001b[0m \u001b[1;32mimport\u001b[0m \u001b[0mbackend_config\u001b[0m\u001b[1;33m\u001b[0m\u001b[1;33m\u001b[0m\u001b[0m\n",
      "\u001b[1;31mImportError\u001b[0m: cannot import name 'get_config' from 'tensorflow.python.eager.context' (E:\\Softwares\\anaconda3\\lib\\site-packages\\tensorflow\\python\\eager\\context.py)"
     ]
    }
   ],
   "source": [
    "from keras.models import Sequential\n",
    "from keras.layers import Dense\n",
    "from keras.layers import LSTM\n",
    "from keras.layers import Dropout\n",
    "from keras.layers import Activation\n",
    "from keras.models import load_model"
   ]
  },
  {
   "cell_type": "code",
   "execution_count": 24,
   "metadata": {},
   "outputs": [],
   "source": [
    "df=pd.read_csv(\"./dataset/gemini_BTCUSD_day.csv\")"
   ]
  },
  {
   "cell_type": "code",
   "execution_count": 25,
   "metadata": {},
   "outputs": [
    {
     "data": {
      "text/plain": [
       "<bound method NDFrame.head of                   Date  Symbol      Open      High       Low     Close  \\\n",
       "0     08-10-2015 04:00  BTCUSD      0.00    245.00      0.00    243.60   \n",
       "1     09-10-2015 04:00  BTCUSD    243.60    249.97    243.60    245.51   \n",
       "2     10-10-2015 04:00  BTCUSD    245.51    246.30    244.60    246.30   \n",
       "3     11-10-2015 04:00  BTCUSD    246.30    249.50    245.96    248.98   \n",
       "4     12-10-2015 04:00  BTCUSD    248.98    248.98    245.75    245.75   \n",
       "...                ...     ...       ...       ...       ...       ...   \n",
       "2037  06-05-2021 04:00  BTCUSD  56900.44  58465.93  55200.00  55762.28   \n",
       "2038  07-05-2021 04:00  BTCUSD  55762.28  58750.00  55292.22  58187.76   \n",
       "2039  08-05-2021 04:00  BTCUSD  58187.76  59560.00  57583.09  58545.16   \n",
       "2040  09-05-2021 04:00  BTCUSD  58545.16  59481.34  56275.13  59407.78   \n",
       "2041  10-05-2021 04:00  BTCUSD  59407.78  59584.99  53434.31  55696.01   \n",
       "\n",
       "           Volume  \n",
       "0       34.754703  \n",
       "1       61.587068  \n",
       "2       30.870549  \n",
       "3       22.747091  \n",
       "4       71.047743  \n",
       "...           ...  \n",
       "2037  1494.897855  \n",
       "2038  1591.200547  \n",
       "2039  1692.076680  \n",
       "2040  1710.375935  \n",
       "2041  2206.490182  \n",
       "\n",
       "[2042 rows x 7 columns]>"
      ]
     },
     "execution_count": 25,
     "metadata": {},
     "output_type": "execute_result"
    }
   ],
   "source": [
    "df.head"
   ]
  },
  {
   "cell_type": "code",
   "execution_count": 26,
   "metadata": {},
   "outputs": [],
   "source": [
    "del df['Date']\n",
    "del df['Symbol']"
   ]
  },
  {
   "cell_type": "code",
   "execution_count": 27,
   "metadata": {},
   "outputs": [
    {
     "name": "stdout",
     "output_type": "stream",
     "text": [
      "<class 'pandas.core.frame.DataFrame'>\n",
      "RangeIndex: 2042 entries, 0 to 2041\n",
      "Data columns (total 5 columns):\n",
      " #   Column  Non-Null Count  Dtype  \n",
      "---  ------  --------------  -----  \n",
      " 0   Open    2042 non-null   float64\n",
      " 1   High    2042 non-null   float64\n",
      " 2   Low     2042 non-null   float64\n",
      " 3   Close   2042 non-null   float64\n",
      " 4   Volume  2042 non-null   float64\n",
      "dtypes: float64(5)\n",
      "memory usage: 79.9 KB\n"
     ]
    }
   ],
   "source": [
    "df.info()"
   ]
  },
  {
   "cell_type": "code",
   "execution_count": 28,
   "metadata": {},
   "outputs": [
    {
     "data": {
      "text/html": [
       "<div>\n",
       "<style scoped>\n",
       "    .dataframe tbody tr th:only-of-type {\n",
       "        vertical-align: middle;\n",
       "    }\n",
       "\n",
       "    .dataframe tbody tr th {\n",
       "        vertical-align: top;\n",
       "    }\n",
       "\n",
       "    .dataframe thead th {\n",
       "        text-align: right;\n",
       "    }\n",
       "</style>\n",
       "<table border=\"1\" class=\"dataframe\">\n",
       "  <thead>\n",
       "    <tr style=\"text-align: right;\">\n",
       "      <th></th>\n",
       "      <th>Open</th>\n",
       "      <th>High</th>\n",
       "      <th>Low</th>\n",
       "      <th>Close</th>\n",
       "      <th>Volume</th>\n",
       "    </tr>\n",
       "  </thead>\n",
       "  <tbody>\n",
       "    <tr>\n",
       "      <th>count</th>\n",
       "      <td>2042.000000</td>\n",
       "      <td>2042.000000</td>\n",
       "      <td>2042.000000</td>\n",
       "      <td>2042.000000</td>\n",
       "      <td>2042.000000</td>\n",
       "    </tr>\n",
       "    <tr>\n",
       "      <th>mean</th>\n",
       "      <td>8561.651773</td>\n",
       "      <td>8837.150305</td>\n",
       "      <td>8279.614647</td>\n",
       "      <td>8588.857561</td>\n",
       "      <td>3458.185883</td>\n",
       "    </tr>\n",
       "    <tr>\n",
       "      <th>std</th>\n",
       "      <td>11681.263939</td>\n",
       "      <td>12082.504260</td>\n",
       "      <td>11252.597488</td>\n",
       "      <td>11726.184537</td>\n",
       "      <td>4108.326925</td>\n",
       "    </tr>\n",
       "    <tr>\n",
       "      <th>min</th>\n",
       "      <td>0.000000</td>\n",
       "      <td>245.000000</td>\n",
       "      <td>0.000000</td>\n",
       "      <td>243.600000</td>\n",
       "      <td>0.000000</td>\n",
       "    </tr>\n",
       "    <tr>\n",
       "      <th>25%</th>\n",
       "      <td>1062.882500</td>\n",
       "      <td>1092.900000</td>\n",
       "      <td>1036.675000</td>\n",
       "      <td>1068.575000</td>\n",
       "      <td>1104.014615</td>\n",
       "    </tr>\n",
       "    <tr>\n",
       "      <th>50%</th>\n",
       "      <td>6434.785000</td>\n",
       "      <td>6574.005000</td>\n",
       "      <td>6341.110000</td>\n",
       "      <td>6439.125000</td>\n",
       "      <td>2098.158879</td>\n",
       "    </tr>\n",
       "    <tr>\n",
       "      <th>75%</th>\n",
       "      <td>9576.095000</td>\n",
       "      <td>9783.575000</td>\n",
       "      <td>9290.000000</td>\n",
       "      <td>9581.242500</td>\n",
       "      <td>4130.832240</td>\n",
       "    </tr>\n",
       "    <tr>\n",
       "      <th>max</th>\n",
       "      <td>63773.180000</td>\n",
       "      <td>64900.000000</td>\n",
       "      <td>62045.000000</td>\n",
       "      <td>63773.180000</td>\n",
       "      <td>54142.433520</td>\n",
       "    </tr>\n",
       "  </tbody>\n",
       "</table>\n",
       "</div>"
      ],
      "text/plain": [
       "               Open          High           Low         Close        Volume\n",
       "count   2042.000000   2042.000000   2042.000000   2042.000000   2042.000000\n",
       "mean    8561.651773   8837.150305   8279.614647   8588.857561   3458.185883\n",
       "std    11681.263939  12082.504260  11252.597488  11726.184537   4108.326925\n",
       "min        0.000000    245.000000      0.000000    243.600000      0.000000\n",
       "25%     1062.882500   1092.900000   1036.675000   1068.575000   1104.014615\n",
       "50%     6434.785000   6574.005000   6341.110000   6439.125000   2098.158879\n",
       "75%     9576.095000   9783.575000   9290.000000   9581.242500   4130.832240\n",
       "max    63773.180000  64900.000000  62045.000000  63773.180000  54142.433520"
      ]
     },
     "execution_count": 28,
     "metadata": {},
     "output_type": "execute_result"
    }
   ],
   "source": [
    "df.describe()"
   ]
  },
  {
   "cell_type": "markdown",
   "metadata": {},
   "source": []
  },
  {
   "cell_type": "code",
   "execution_count": 29,
   "metadata": {},
   "outputs": [
    {
     "data": {
      "text/plain": [
       "array(['Open', 'High', 'Low', 'Close', 'Volume'], dtype=object)"
      ]
     },
     "execution_count": 29,
     "metadata": {},
     "output_type": "execute_result"
    }
   ],
   "source": [
    "df.columns.values"
   ]
  },
  {
   "cell_type": "code",
   "execution_count": 30,
   "metadata": {},
   "outputs": [],
   "source": [
    "n_train_rows = int(df.shape[0]*.8)-1"
   ]
  },
  {
   "cell_type": "code",
   "execution_count": 31,
   "metadata": {},
   "outputs": [],
   "source": [
    "train = df.iloc[:n_train_rows, :]\n",
    "test = df.iloc[n_train_rows:, :]"
   ]
  },
  {
   "cell_type": "code",
   "execution_count": 32,
   "metadata": {},
   "outputs": [
    {
     "name": "stdout",
     "output_type": "stream",
     "text": [
      "(1632, 5)\n",
      "(410, 5)\n"
     ]
    }
   ],
   "source": [
    "print(train.shape)\n",
    "print(test.shape)"
   ]
  },
  {
   "cell_type": "code",
   "execution_count": 33,
   "metadata": {},
   "outputs": [],
   "source": [
    "sc = MinMaxScaler(feature_range = (0, 1))\n",
    "training_set_scaled = sc.fit_transform(train.values)\n",
    "test_set_scaled = sc.fit_transform(test.values)"
   ]
  },
  {
   "cell_type": "code",
   "execution_count": 34,
   "metadata": {},
   "outputs": [],
   "source": [
    "steps = 50\n",
    "x_train = []\n",
    "y_train = []\n",
    "x_test = []\n",
    "y_test = []"
   ]
  },
  {
   "cell_type": "code",
   "execution_count": 35,
   "metadata": {},
   "outputs": [
    {
     "name": "stdout",
     "output_type": "stream",
     "text": [
      "(1532, 50, 5)\n"
     ]
    }
   ],
   "source": [
    "for i in range(steps, training_set_scaled.shape[0]-steps):\n",
    "    x_train.append(training_set_scaled[i-steps:i, :])\n",
    "    y_train.append(training_set_scaled[i, :])\n",
    "\n",
    "x_train, y_train = np.array(x_train), np.array(y_train)\n",
    "print(x_train.shape)"
   ]
  },
  {
   "cell_type": "code",
   "execution_count": 36,
   "metadata": {},
   "outputs": [
    {
     "name": "stdout",
     "output_type": "stream",
     "text": [
      "(360, 50, 5)\n"
     ]
    }
   ],
   "source": [
    "for i in range(steps, test_set_scaled.shape[0]):\n",
    "    x_test.append(test_set_scaled[i-steps:i, :])\n",
    "    y_test.append(test_set_scaled[i, :])\n",
    "\n",
    "x_test, y_test = np.array(x_test), np.array(y_test)\n",
    "print(x_test.shape)"
   ]
  },
  {
   "cell_type": "code",
   "execution_count": 38,
   "metadata": {},
   "outputs": [
    {
     "data": {
      "text/html": [
       "<style  type=\"text/css\" >\n",
       "</style><table id=\"T_6731b78a_2747_11ec_a0b7_54bf64283224\" ><thead>    <tr>        <th class=\"blank level0\" ></th>        <th class=\"col_heading level0 col0\" >Description</th>        <th class=\"col_heading level0 col1\" >Value</th>    </tr></thead><tbody>\n",
       "                <tr>\n",
       "                        <th id=\"T_6731b78a_2747_11ec_a0b7_54bf64283224level0_row0\" class=\"row_heading level0 row0\" >0</th>\n",
       "                        <td id=\"T_6731b78a_2747_11ec_a0b7_54bf64283224row0_col0\" class=\"data row0 col0\" >session_id</td>\n",
       "                        <td id=\"T_6731b78a_2747_11ec_a0b7_54bf64283224row0_col1\" class=\"data row0 col1\" >123</td>\n",
       "            </tr>\n",
       "            <tr>\n",
       "                        <th id=\"T_6731b78a_2747_11ec_a0b7_54bf64283224level0_row1\" class=\"row_heading level0 row1\" >1</th>\n",
       "                        <td id=\"T_6731b78a_2747_11ec_a0b7_54bf64283224row1_col0\" class=\"data row1 col0\" >Target</td>\n",
       "                        <td id=\"T_6731b78a_2747_11ec_a0b7_54bf64283224row1_col1\" class=\"data row1 col1\" >Close</td>\n",
       "            </tr>\n",
       "            <tr>\n",
       "                        <th id=\"T_6731b78a_2747_11ec_a0b7_54bf64283224level0_row2\" class=\"row_heading level0 row2\" >2</th>\n",
       "                        <td id=\"T_6731b78a_2747_11ec_a0b7_54bf64283224row2_col0\" class=\"data row2 col0\" >Target Type</td>\n",
       "                        <td id=\"T_6731b78a_2747_11ec_a0b7_54bf64283224row2_col1\" class=\"data row2 col1\" >Multiclass</td>\n",
       "            </tr>\n",
       "            <tr>\n",
       "                        <th id=\"T_6731b78a_2747_11ec_a0b7_54bf64283224level0_row3\" class=\"row_heading level0 row3\" >3</th>\n",
       "                        <td id=\"T_6731b78a_2747_11ec_a0b7_54bf64283224row3_col0\" class=\"data row3 col0\" >Label Encoded</td>\n",
       "                        <td id=\"T_6731b78a_2747_11ec_a0b7_54bf64283224row3_col1\" class=\"data row3 col1\" >None</td>\n",
       "            </tr>\n",
       "            <tr>\n",
       "                        <th id=\"T_6731b78a_2747_11ec_a0b7_54bf64283224level0_row4\" class=\"row_heading level0 row4\" >4</th>\n",
       "                        <td id=\"T_6731b78a_2747_11ec_a0b7_54bf64283224row4_col0\" class=\"data row4 col0\" >Original Data</td>\n",
       "                        <td id=\"T_6731b78a_2747_11ec_a0b7_54bf64283224row4_col1\" class=\"data row4 col1\" >(1632, 5)</td>\n",
       "            </tr>\n",
       "            <tr>\n",
       "                        <th id=\"T_6731b78a_2747_11ec_a0b7_54bf64283224level0_row5\" class=\"row_heading level0 row5\" >5</th>\n",
       "                        <td id=\"T_6731b78a_2747_11ec_a0b7_54bf64283224row5_col0\" class=\"data row5 col0\" >Missing Values</td>\n",
       "                        <td id=\"T_6731b78a_2747_11ec_a0b7_54bf64283224row5_col1\" class=\"data row5 col1\" >False</td>\n",
       "            </tr>\n",
       "            <tr>\n",
       "                        <th id=\"T_6731b78a_2747_11ec_a0b7_54bf64283224level0_row6\" class=\"row_heading level0 row6\" >6</th>\n",
       "                        <td id=\"T_6731b78a_2747_11ec_a0b7_54bf64283224row6_col0\" class=\"data row6 col0\" >Numeric Features</td>\n",
       "                        <td id=\"T_6731b78a_2747_11ec_a0b7_54bf64283224row6_col1\" class=\"data row6 col1\" >4</td>\n",
       "            </tr>\n",
       "            <tr>\n",
       "                        <th id=\"T_6731b78a_2747_11ec_a0b7_54bf64283224level0_row7\" class=\"row_heading level0 row7\" >7</th>\n",
       "                        <td id=\"T_6731b78a_2747_11ec_a0b7_54bf64283224row7_col0\" class=\"data row7 col0\" >Categorical Features</td>\n",
       "                        <td id=\"T_6731b78a_2747_11ec_a0b7_54bf64283224row7_col1\" class=\"data row7 col1\" >0</td>\n",
       "            </tr>\n",
       "            <tr>\n",
       "                        <th id=\"T_6731b78a_2747_11ec_a0b7_54bf64283224level0_row8\" class=\"row_heading level0 row8\" >8</th>\n",
       "                        <td id=\"T_6731b78a_2747_11ec_a0b7_54bf64283224row8_col0\" class=\"data row8 col0\" >Ordinal Features</td>\n",
       "                        <td id=\"T_6731b78a_2747_11ec_a0b7_54bf64283224row8_col1\" class=\"data row8 col1\" >False</td>\n",
       "            </tr>\n",
       "            <tr>\n",
       "                        <th id=\"T_6731b78a_2747_11ec_a0b7_54bf64283224level0_row9\" class=\"row_heading level0 row9\" >9</th>\n",
       "                        <td id=\"T_6731b78a_2747_11ec_a0b7_54bf64283224row9_col0\" class=\"data row9 col0\" >High Cardinality Features</td>\n",
       "                        <td id=\"T_6731b78a_2747_11ec_a0b7_54bf64283224row9_col1\" class=\"data row9 col1\" >False</td>\n",
       "            </tr>\n",
       "            <tr>\n",
       "                        <th id=\"T_6731b78a_2747_11ec_a0b7_54bf64283224level0_row10\" class=\"row_heading level0 row10\" >10</th>\n",
       "                        <td id=\"T_6731b78a_2747_11ec_a0b7_54bf64283224row10_col0\" class=\"data row10 col0\" >High Cardinality Method</td>\n",
       "                        <td id=\"T_6731b78a_2747_11ec_a0b7_54bf64283224row10_col1\" class=\"data row10 col1\" >None</td>\n",
       "            </tr>\n",
       "            <tr>\n",
       "                        <th id=\"T_6731b78a_2747_11ec_a0b7_54bf64283224level0_row11\" class=\"row_heading level0 row11\" >11</th>\n",
       "                        <td id=\"T_6731b78a_2747_11ec_a0b7_54bf64283224row11_col0\" class=\"data row11 col0\" >Transformed Train Set</td>\n",
       "                        <td id=\"T_6731b78a_2747_11ec_a0b7_54bf64283224row11_col1\" class=\"data row11 col1\" >(1142, 2)</td>\n",
       "            </tr>\n",
       "            <tr>\n",
       "                        <th id=\"T_6731b78a_2747_11ec_a0b7_54bf64283224level0_row12\" class=\"row_heading level0 row12\" >12</th>\n",
       "                        <td id=\"T_6731b78a_2747_11ec_a0b7_54bf64283224row12_col0\" class=\"data row12 col0\" >Transformed Test Set</td>\n",
       "                        <td id=\"T_6731b78a_2747_11ec_a0b7_54bf64283224row12_col1\" class=\"data row12 col1\" >(490, 2)</td>\n",
       "            </tr>\n",
       "            <tr>\n",
       "                        <th id=\"T_6731b78a_2747_11ec_a0b7_54bf64283224level0_row13\" class=\"row_heading level0 row13\" >13</th>\n",
       "                        <td id=\"T_6731b78a_2747_11ec_a0b7_54bf64283224row13_col0\" class=\"data row13 col0\" >Shuffle Train-Test</td>\n",
       "                        <td id=\"T_6731b78a_2747_11ec_a0b7_54bf64283224row13_col1\" class=\"data row13 col1\" >True</td>\n",
       "            </tr>\n",
       "            <tr>\n",
       "                        <th id=\"T_6731b78a_2747_11ec_a0b7_54bf64283224level0_row14\" class=\"row_heading level0 row14\" >14</th>\n",
       "                        <td id=\"T_6731b78a_2747_11ec_a0b7_54bf64283224row14_col0\" class=\"data row14 col0\" >Stratify Train-Test</td>\n",
       "                        <td id=\"T_6731b78a_2747_11ec_a0b7_54bf64283224row14_col1\" class=\"data row14 col1\" >False</td>\n",
       "            </tr>\n",
       "            <tr>\n",
       "                        <th id=\"T_6731b78a_2747_11ec_a0b7_54bf64283224level0_row15\" class=\"row_heading level0 row15\" >15</th>\n",
       "                        <td id=\"T_6731b78a_2747_11ec_a0b7_54bf64283224row15_col0\" class=\"data row15 col0\" >Fold Generator</td>\n",
       "                        <td id=\"T_6731b78a_2747_11ec_a0b7_54bf64283224row15_col1\" class=\"data row15 col1\" >StratifiedKFold</td>\n",
       "            </tr>\n",
       "            <tr>\n",
       "                        <th id=\"T_6731b78a_2747_11ec_a0b7_54bf64283224level0_row16\" class=\"row_heading level0 row16\" >16</th>\n",
       "                        <td id=\"T_6731b78a_2747_11ec_a0b7_54bf64283224row16_col0\" class=\"data row16 col0\" >Fold Number</td>\n",
       "                        <td id=\"T_6731b78a_2747_11ec_a0b7_54bf64283224row16_col1\" class=\"data row16 col1\" >10</td>\n",
       "            </tr>\n",
       "            <tr>\n",
       "                        <th id=\"T_6731b78a_2747_11ec_a0b7_54bf64283224level0_row17\" class=\"row_heading level0 row17\" >17</th>\n",
       "                        <td id=\"T_6731b78a_2747_11ec_a0b7_54bf64283224row17_col0\" class=\"data row17 col0\" >CPU Jobs</td>\n",
       "                        <td id=\"T_6731b78a_2747_11ec_a0b7_54bf64283224row17_col1\" class=\"data row17 col1\" >-1</td>\n",
       "            </tr>\n",
       "            <tr>\n",
       "                        <th id=\"T_6731b78a_2747_11ec_a0b7_54bf64283224level0_row18\" class=\"row_heading level0 row18\" >18</th>\n",
       "                        <td id=\"T_6731b78a_2747_11ec_a0b7_54bf64283224row18_col0\" class=\"data row18 col0\" >Use GPU</td>\n",
       "                        <td id=\"T_6731b78a_2747_11ec_a0b7_54bf64283224row18_col1\" class=\"data row18 col1\" >False</td>\n",
       "            </tr>\n",
       "            <tr>\n",
       "                        <th id=\"T_6731b78a_2747_11ec_a0b7_54bf64283224level0_row19\" class=\"row_heading level0 row19\" >19</th>\n",
       "                        <td id=\"T_6731b78a_2747_11ec_a0b7_54bf64283224row19_col0\" class=\"data row19 col0\" >Log Experiment</td>\n",
       "                        <td id=\"T_6731b78a_2747_11ec_a0b7_54bf64283224row19_col1\" class=\"data row19 col1\" >False</td>\n",
       "            </tr>\n",
       "            <tr>\n",
       "                        <th id=\"T_6731b78a_2747_11ec_a0b7_54bf64283224level0_row20\" class=\"row_heading level0 row20\" >20</th>\n",
       "                        <td id=\"T_6731b78a_2747_11ec_a0b7_54bf64283224row20_col0\" class=\"data row20 col0\" >Experiment Name</td>\n",
       "                        <td id=\"T_6731b78a_2747_11ec_a0b7_54bf64283224row20_col1\" class=\"data row20 col1\" >clf-default-name</td>\n",
       "            </tr>\n",
       "            <tr>\n",
       "                        <th id=\"T_6731b78a_2747_11ec_a0b7_54bf64283224level0_row21\" class=\"row_heading level0 row21\" >21</th>\n",
       "                        <td id=\"T_6731b78a_2747_11ec_a0b7_54bf64283224row21_col0\" class=\"data row21 col0\" >USI</td>\n",
       "                        <td id=\"T_6731b78a_2747_11ec_a0b7_54bf64283224row21_col1\" class=\"data row21 col1\" >f90c</td>\n",
       "            </tr>\n",
       "            <tr>\n",
       "                        <th id=\"T_6731b78a_2747_11ec_a0b7_54bf64283224level0_row22\" class=\"row_heading level0 row22\" >22</th>\n",
       "                        <td id=\"T_6731b78a_2747_11ec_a0b7_54bf64283224row22_col0\" class=\"data row22 col0\" >Imputation Type</td>\n",
       "                        <td id=\"T_6731b78a_2747_11ec_a0b7_54bf64283224row22_col1\" class=\"data row22 col1\" >simple</td>\n",
       "            </tr>\n",
       "            <tr>\n",
       "                        <th id=\"T_6731b78a_2747_11ec_a0b7_54bf64283224level0_row23\" class=\"row_heading level0 row23\" >23</th>\n",
       "                        <td id=\"T_6731b78a_2747_11ec_a0b7_54bf64283224row23_col0\" class=\"data row23 col0\" >Iterative Imputation Iteration</td>\n",
       "                        <td id=\"T_6731b78a_2747_11ec_a0b7_54bf64283224row23_col1\" class=\"data row23 col1\" >None</td>\n",
       "            </tr>\n",
       "            <tr>\n",
       "                        <th id=\"T_6731b78a_2747_11ec_a0b7_54bf64283224level0_row24\" class=\"row_heading level0 row24\" >24</th>\n",
       "                        <td id=\"T_6731b78a_2747_11ec_a0b7_54bf64283224row24_col0\" class=\"data row24 col0\" >Numeric Imputer</td>\n",
       "                        <td id=\"T_6731b78a_2747_11ec_a0b7_54bf64283224row24_col1\" class=\"data row24 col1\" >mean</td>\n",
       "            </tr>\n",
       "            <tr>\n",
       "                        <th id=\"T_6731b78a_2747_11ec_a0b7_54bf64283224level0_row25\" class=\"row_heading level0 row25\" >25</th>\n",
       "                        <td id=\"T_6731b78a_2747_11ec_a0b7_54bf64283224row25_col0\" class=\"data row25 col0\" >Iterative Imputation Numeric Model</td>\n",
       "                        <td id=\"T_6731b78a_2747_11ec_a0b7_54bf64283224row25_col1\" class=\"data row25 col1\" >None</td>\n",
       "            </tr>\n",
       "            <tr>\n",
       "                        <th id=\"T_6731b78a_2747_11ec_a0b7_54bf64283224level0_row26\" class=\"row_heading level0 row26\" >26</th>\n",
       "                        <td id=\"T_6731b78a_2747_11ec_a0b7_54bf64283224row26_col0\" class=\"data row26 col0\" >Categorical Imputer</td>\n",
       "                        <td id=\"T_6731b78a_2747_11ec_a0b7_54bf64283224row26_col1\" class=\"data row26 col1\" >constant</td>\n",
       "            </tr>\n",
       "            <tr>\n",
       "                        <th id=\"T_6731b78a_2747_11ec_a0b7_54bf64283224level0_row27\" class=\"row_heading level0 row27\" >27</th>\n",
       "                        <td id=\"T_6731b78a_2747_11ec_a0b7_54bf64283224row27_col0\" class=\"data row27 col0\" >Iterative Imputation Categorical Model</td>\n",
       "                        <td id=\"T_6731b78a_2747_11ec_a0b7_54bf64283224row27_col1\" class=\"data row27 col1\" >None</td>\n",
       "            </tr>\n",
       "            <tr>\n",
       "                        <th id=\"T_6731b78a_2747_11ec_a0b7_54bf64283224level0_row28\" class=\"row_heading level0 row28\" >28</th>\n",
       "                        <td id=\"T_6731b78a_2747_11ec_a0b7_54bf64283224row28_col0\" class=\"data row28 col0\" >Unknown Categoricals Handling</td>\n",
       "                        <td id=\"T_6731b78a_2747_11ec_a0b7_54bf64283224row28_col1\" class=\"data row28 col1\" >least_frequent</td>\n",
       "            </tr>\n",
       "            <tr>\n",
       "                        <th id=\"T_6731b78a_2747_11ec_a0b7_54bf64283224level0_row29\" class=\"row_heading level0 row29\" >29</th>\n",
       "                        <td id=\"T_6731b78a_2747_11ec_a0b7_54bf64283224row29_col0\" class=\"data row29 col0\" >Normalize</td>\n",
       "                        <td id=\"T_6731b78a_2747_11ec_a0b7_54bf64283224row29_col1\" class=\"data row29 col1\" >False</td>\n",
       "            </tr>\n",
       "            <tr>\n",
       "                        <th id=\"T_6731b78a_2747_11ec_a0b7_54bf64283224level0_row30\" class=\"row_heading level0 row30\" >30</th>\n",
       "                        <td id=\"T_6731b78a_2747_11ec_a0b7_54bf64283224row30_col0\" class=\"data row30 col0\" >Normalize Method</td>\n",
       "                        <td id=\"T_6731b78a_2747_11ec_a0b7_54bf64283224row30_col1\" class=\"data row30 col1\" >None</td>\n",
       "            </tr>\n",
       "            <tr>\n",
       "                        <th id=\"T_6731b78a_2747_11ec_a0b7_54bf64283224level0_row31\" class=\"row_heading level0 row31\" >31</th>\n",
       "                        <td id=\"T_6731b78a_2747_11ec_a0b7_54bf64283224row31_col0\" class=\"data row31 col0\" >Transformation</td>\n",
       "                        <td id=\"T_6731b78a_2747_11ec_a0b7_54bf64283224row31_col1\" class=\"data row31 col1\" >False</td>\n",
       "            </tr>\n",
       "            <tr>\n",
       "                        <th id=\"T_6731b78a_2747_11ec_a0b7_54bf64283224level0_row32\" class=\"row_heading level0 row32\" >32</th>\n",
       "                        <td id=\"T_6731b78a_2747_11ec_a0b7_54bf64283224row32_col0\" class=\"data row32 col0\" >Transformation Method</td>\n",
       "                        <td id=\"T_6731b78a_2747_11ec_a0b7_54bf64283224row32_col1\" class=\"data row32 col1\" >None</td>\n",
       "            </tr>\n",
       "            <tr>\n",
       "                        <th id=\"T_6731b78a_2747_11ec_a0b7_54bf64283224level0_row33\" class=\"row_heading level0 row33\" >33</th>\n",
       "                        <td id=\"T_6731b78a_2747_11ec_a0b7_54bf64283224row33_col0\" class=\"data row33 col0\" >PCA</td>\n",
       "                        <td id=\"T_6731b78a_2747_11ec_a0b7_54bf64283224row33_col1\" class=\"data row33 col1\" >False</td>\n",
       "            </tr>\n",
       "            <tr>\n",
       "                        <th id=\"T_6731b78a_2747_11ec_a0b7_54bf64283224level0_row34\" class=\"row_heading level0 row34\" >34</th>\n",
       "                        <td id=\"T_6731b78a_2747_11ec_a0b7_54bf64283224row34_col0\" class=\"data row34 col0\" >PCA Method</td>\n",
       "                        <td id=\"T_6731b78a_2747_11ec_a0b7_54bf64283224row34_col1\" class=\"data row34 col1\" >None</td>\n",
       "            </tr>\n",
       "            <tr>\n",
       "                        <th id=\"T_6731b78a_2747_11ec_a0b7_54bf64283224level0_row35\" class=\"row_heading level0 row35\" >35</th>\n",
       "                        <td id=\"T_6731b78a_2747_11ec_a0b7_54bf64283224row35_col0\" class=\"data row35 col0\" >PCA Components</td>\n",
       "                        <td id=\"T_6731b78a_2747_11ec_a0b7_54bf64283224row35_col1\" class=\"data row35 col1\" >None</td>\n",
       "            </tr>\n",
       "            <tr>\n",
       "                        <th id=\"T_6731b78a_2747_11ec_a0b7_54bf64283224level0_row36\" class=\"row_heading level0 row36\" >36</th>\n",
       "                        <td id=\"T_6731b78a_2747_11ec_a0b7_54bf64283224row36_col0\" class=\"data row36 col0\" >Ignore Low Variance</td>\n",
       "                        <td id=\"T_6731b78a_2747_11ec_a0b7_54bf64283224row36_col1\" class=\"data row36 col1\" >False</td>\n",
       "            </tr>\n",
       "            <tr>\n",
       "                        <th id=\"T_6731b78a_2747_11ec_a0b7_54bf64283224level0_row37\" class=\"row_heading level0 row37\" >37</th>\n",
       "                        <td id=\"T_6731b78a_2747_11ec_a0b7_54bf64283224row37_col0\" class=\"data row37 col0\" >Combine Rare Levels</td>\n",
       "                        <td id=\"T_6731b78a_2747_11ec_a0b7_54bf64283224row37_col1\" class=\"data row37 col1\" >False</td>\n",
       "            </tr>\n",
       "            <tr>\n",
       "                        <th id=\"T_6731b78a_2747_11ec_a0b7_54bf64283224level0_row38\" class=\"row_heading level0 row38\" >38</th>\n",
       "                        <td id=\"T_6731b78a_2747_11ec_a0b7_54bf64283224row38_col0\" class=\"data row38 col0\" >Rare Level Threshold</td>\n",
       "                        <td id=\"T_6731b78a_2747_11ec_a0b7_54bf64283224row38_col1\" class=\"data row38 col1\" >None</td>\n",
       "            </tr>\n",
       "            <tr>\n",
       "                        <th id=\"T_6731b78a_2747_11ec_a0b7_54bf64283224level0_row39\" class=\"row_heading level0 row39\" >39</th>\n",
       "                        <td id=\"T_6731b78a_2747_11ec_a0b7_54bf64283224row39_col0\" class=\"data row39 col0\" >Numeric Binning</td>\n",
       "                        <td id=\"T_6731b78a_2747_11ec_a0b7_54bf64283224row39_col1\" class=\"data row39 col1\" >False</td>\n",
       "            </tr>\n",
       "            <tr>\n",
       "                        <th id=\"T_6731b78a_2747_11ec_a0b7_54bf64283224level0_row40\" class=\"row_heading level0 row40\" >40</th>\n",
       "                        <td id=\"T_6731b78a_2747_11ec_a0b7_54bf64283224row40_col0\" class=\"data row40 col0\" >Remove Outliers</td>\n",
       "                        <td id=\"T_6731b78a_2747_11ec_a0b7_54bf64283224row40_col1\" class=\"data row40 col1\" >False</td>\n",
       "            </tr>\n",
       "            <tr>\n",
       "                        <th id=\"T_6731b78a_2747_11ec_a0b7_54bf64283224level0_row41\" class=\"row_heading level0 row41\" >41</th>\n",
       "                        <td id=\"T_6731b78a_2747_11ec_a0b7_54bf64283224row41_col0\" class=\"data row41 col0\" >Outliers Threshold</td>\n",
       "                        <td id=\"T_6731b78a_2747_11ec_a0b7_54bf64283224row41_col1\" class=\"data row41 col1\" >None</td>\n",
       "            </tr>\n",
       "            <tr>\n",
       "                        <th id=\"T_6731b78a_2747_11ec_a0b7_54bf64283224level0_row42\" class=\"row_heading level0 row42\" >42</th>\n",
       "                        <td id=\"T_6731b78a_2747_11ec_a0b7_54bf64283224row42_col0\" class=\"data row42 col0\" >Remove Multicollinearity</td>\n",
       "                        <td id=\"T_6731b78a_2747_11ec_a0b7_54bf64283224row42_col1\" class=\"data row42 col1\" >False</td>\n",
       "            </tr>\n",
       "            <tr>\n",
       "                        <th id=\"T_6731b78a_2747_11ec_a0b7_54bf64283224level0_row43\" class=\"row_heading level0 row43\" >43</th>\n",
       "                        <td id=\"T_6731b78a_2747_11ec_a0b7_54bf64283224row43_col0\" class=\"data row43 col0\" >Multicollinearity Threshold</td>\n",
       "                        <td id=\"T_6731b78a_2747_11ec_a0b7_54bf64283224row43_col1\" class=\"data row43 col1\" >None</td>\n",
       "            </tr>\n",
       "            <tr>\n",
       "                        <th id=\"T_6731b78a_2747_11ec_a0b7_54bf64283224level0_row44\" class=\"row_heading level0 row44\" >44</th>\n",
       "                        <td id=\"T_6731b78a_2747_11ec_a0b7_54bf64283224row44_col0\" class=\"data row44 col0\" >Clustering</td>\n",
       "                        <td id=\"T_6731b78a_2747_11ec_a0b7_54bf64283224row44_col1\" class=\"data row44 col1\" >False</td>\n",
       "            </tr>\n",
       "            <tr>\n",
       "                        <th id=\"T_6731b78a_2747_11ec_a0b7_54bf64283224level0_row45\" class=\"row_heading level0 row45\" >45</th>\n",
       "                        <td id=\"T_6731b78a_2747_11ec_a0b7_54bf64283224row45_col0\" class=\"data row45 col0\" >Clustering Iteration</td>\n",
       "                        <td id=\"T_6731b78a_2747_11ec_a0b7_54bf64283224row45_col1\" class=\"data row45 col1\" >None</td>\n",
       "            </tr>\n",
       "            <tr>\n",
       "                        <th id=\"T_6731b78a_2747_11ec_a0b7_54bf64283224level0_row46\" class=\"row_heading level0 row46\" >46</th>\n",
       "                        <td id=\"T_6731b78a_2747_11ec_a0b7_54bf64283224row46_col0\" class=\"data row46 col0\" >Polynomial Features</td>\n",
       "                        <td id=\"T_6731b78a_2747_11ec_a0b7_54bf64283224row46_col1\" class=\"data row46 col1\" >False</td>\n",
       "            </tr>\n",
       "            <tr>\n",
       "                        <th id=\"T_6731b78a_2747_11ec_a0b7_54bf64283224level0_row47\" class=\"row_heading level0 row47\" >47</th>\n",
       "                        <td id=\"T_6731b78a_2747_11ec_a0b7_54bf64283224row47_col0\" class=\"data row47 col0\" >Polynomial Degree</td>\n",
       "                        <td id=\"T_6731b78a_2747_11ec_a0b7_54bf64283224row47_col1\" class=\"data row47 col1\" >None</td>\n",
       "            </tr>\n",
       "            <tr>\n",
       "                        <th id=\"T_6731b78a_2747_11ec_a0b7_54bf64283224level0_row48\" class=\"row_heading level0 row48\" >48</th>\n",
       "                        <td id=\"T_6731b78a_2747_11ec_a0b7_54bf64283224row48_col0\" class=\"data row48 col0\" >Trignometry Features</td>\n",
       "                        <td id=\"T_6731b78a_2747_11ec_a0b7_54bf64283224row48_col1\" class=\"data row48 col1\" >False</td>\n",
       "            </tr>\n",
       "            <tr>\n",
       "                        <th id=\"T_6731b78a_2747_11ec_a0b7_54bf64283224level0_row49\" class=\"row_heading level0 row49\" >49</th>\n",
       "                        <td id=\"T_6731b78a_2747_11ec_a0b7_54bf64283224row49_col0\" class=\"data row49 col0\" >Polynomial Threshold</td>\n",
       "                        <td id=\"T_6731b78a_2747_11ec_a0b7_54bf64283224row49_col1\" class=\"data row49 col1\" >None</td>\n",
       "            </tr>\n",
       "            <tr>\n",
       "                        <th id=\"T_6731b78a_2747_11ec_a0b7_54bf64283224level0_row50\" class=\"row_heading level0 row50\" >50</th>\n",
       "                        <td id=\"T_6731b78a_2747_11ec_a0b7_54bf64283224row50_col0\" class=\"data row50 col0\" >Group Features</td>\n",
       "                        <td id=\"T_6731b78a_2747_11ec_a0b7_54bf64283224row50_col1\" class=\"data row50 col1\" >False</td>\n",
       "            </tr>\n",
       "            <tr>\n",
       "                        <th id=\"T_6731b78a_2747_11ec_a0b7_54bf64283224level0_row51\" class=\"row_heading level0 row51\" >51</th>\n",
       "                        <td id=\"T_6731b78a_2747_11ec_a0b7_54bf64283224row51_col0\" class=\"data row51 col0\" >Feature Selection</td>\n",
       "                        <td id=\"T_6731b78a_2747_11ec_a0b7_54bf64283224row51_col1\" class=\"data row51 col1\" >False</td>\n",
       "            </tr>\n",
       "            <tr>\n",
       "                        <th id=\"T_6731b78a_2747_11ec_a0b7_54bf64283224level0_row52\" class=\"row_heading level0 row52\" >52</th>\n",
       "                        <td id=\"T_6731b78a_2747_11ec_a0b7_54bf64283224row52_col0\" class=\"data row52 col0\" >Feature Selection Method</td>\n",
       "                        <td id=\"T_6731b78a_2747_11ec_a0b7_54bf64283224row52_col1\" class=\"data row52 col1\" >classic</td>\n",
       "            </tr>\n",
       "            <tr>\n",
       "                        <th id=\"T_6731b78a_2747_11ec_a0b7_54bf64283224level0_row53\" class=\"row_heading level0 row53\" >53</th>\n",
       "                        <td id=\"T_6731b78a_2747_11ec_a0b7_54bf64283224row53_col0\" class=\"data row53 col0\" >Features Selection Threshold</td>\n",
       "                        <td id=\"T_6731b78a_2747_11ec_a0b7_54bf64283224row53_col1\" class=\"data row53 col1\" >None</td>\n",
       "            </tr>\n",
       "            <tr>\n",
       "                        <th id=\"T_6731b78a_2747_11ec_a0b7_54bf64283224level0_row54\" class=\"row_heading level0 row54\" >54</th>\n",
       "                        <td id=\"T_6731b78a_2747_11ec_a0b7_54bf64283224row54_col0\" class=\"data row54 col0\" >Feature Interaction</td>\n",
       "                        <td id=\"T_6731b78a_2747_11ec_a0b7_54bf64283224row54_col1\" class=\"data row54 col1\" >False</td>\n",
       "            </tr>\n",
       "            <tr>\n",
       "                        <th id=\"T_6731b78a_2747_11ec_a0b7_54bf64283224level0_row55\" class=\"row_heading level0 row55\" >55</th>\n",
       "                        <td id=\"T_6731b78a_2747_11ec_a0b7_54bf64283224row55_col0\" class=\"data row55 col0\" >Feature Ratio</td>\n",
       "                        <td id=\"T_6731b78a_2747_11ec_a0b7_54bf64283224row55_col1\" class=\"data row55 col1\" >False</td>\n",
       "            </tr>\n",
       "            <tr>\n",
       "                        <th id=\"T_6731b78a_2747_11ec_a0b7_54bf64283224level0_row56\" class=\"row_heading level0 row56\" >56</th>\n",
       "                        <td id=\"T_6731b78a_2747_11ec_a0b7_54bf64283224row56_col0\" class=\"data row56 col0\" >Interaction Threshold</td>\n",
       "                        <td id=\"T_6731b78a_2747_11ec_a0b7_54bf64283224row56_col1\" class=\"data row56 col1\" >None</td>\n",
       "            </tr>\n",
       "            <tr>\n",
       "                        <th id=\"T_6731b78a_2747_11ec_a0b7_54bf64283224level0_row57\" class=\"row_heading level0 row57\" >57</th>\n",
       "                        <td id=\"T_6731b78a_2747_11ec_a0b7_54bf64283224row57_col0\" class=\"data row57 col0\" >Fix Imbalance</td>\n",
       "                        <td id=\"T_6731b78a_2747_11ec_a0b7_54bf64283224row57_col1\" class=\"data row57 col1\" >False</td>\n",
       "            </tr>\n",
       "            <tr>\n",
       "                        <th id=\"T_6731b78a_2747_11ec_a0b7_54bf64283224level0_row58\" class=\"row_heading level0 row58\" >58</th>\n",
       "                        <td id=\"T_6731b78a_2747_11ec_a0b7_54bf64283224row58_col0\" class=\"data row58 col0\" >Fix Imbalance Method</td>\n",
       "                        <td id=\"T_6731b78a_2747_11ec_a0b7_54bf64283224row58_col1\" class=\"data row58 col1\" >SMOTE</td>\n",
       "            </tr>\n",
       "    </tbody></table>"
      ],
      "text/plain": [
       "<pandas.io.formats.style.Styler at 0x2409b1a6e20>"
      ]
     },
     "metadata": {},
     "output_type": "display_data"
    }
   ],
   "source": [
    "train = setup(data = train, target = 'Close', session_id=123)"
   ]
  },
  {
   "cell_type": "code",
   "execution_count": 44,
   "metadata": {},
   "outputs": [
    {
     "ename": "NameError",
     "evalue": "name 'Sequential' is not defined",
     "output_type": "error",
     "traceback": [
      "\u001b[1;31m---------------------------------------------------------------------------\u001b[0m",
      "\u001b[1;31mNameError\u001b[0m                                 Traceback (most recent call last)",
      "\u001b[1;32m<ipython-input-44-82ef346ff754>\u001b[0m in \u001b[0;36m<module>\u001b[1;34m\u001b[0m\n\u001b[1;32m----> 1\u001b[1;33m \u001b[0mmodel\u001b[0m \u001b[1;33m=\u001b[0m \u001b[0mSequential\u001b[0m\u001b[1;33m(\u001b[0m\u001b[1;33m)\u001b[0m\u001b[1;33m\u001b[0m\u001b[1;33m\u001b[0m\u001b[0m\n\u001b[0m",
      "\u001b[1;31mNameError\u001b[0m: name 'Sequential' is not defined"
     ]
    }
   ],
   "source": [
    "model = Sequential()"
   ]
  },
  {
   "cell_type": "code",
   "execution_count": null,
   "metadata": {},
   "outputs": [],
   "source": []
  }
 ],
 "metadata": {
  "kernelspec": {
   "display_name": "Python 3",
   "language": "python",
   "name": "python3"
  },
  "language_info": {
   "codemirror_mode": {
    "name": "ipython",
    "version": 3
   },
   "file_extension": ".py",
   "mimetype": "text/x-python",
   "name": "python",
   "nbconvert_exporter": "python",
   "pygments_lexer": "ipython3",
   "version": "3.8.5"
  }
 },
 "nbformat": 4,
 "nbformat_minor": 4
}
